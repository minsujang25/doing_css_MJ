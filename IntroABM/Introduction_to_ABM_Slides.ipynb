{
 "cells": [
  {
   "cell_type": "markdown",
   "id": "f61f9905",
   "metadata": {
    "slideshow": {
     "slide_type": "slide"
    }
   },
   "source": [
    "# 1. Please make sure you have / activate the virtual environment:\n",
    "\n",
    "1. `conda env create -f environments.yml`\n",
    "\n",
    "2. `conda activate BCModel`\n",
    "\n",
    "# 2. If you encounter any problems, please let me know! "
   ]
  },
  {
   "cell_type": "markdown",
   "id": "ad67a654",
   "metadata": {
    "slideshow": {
     "slide_type": "slide"
    }
   },
   "source": [
    "# Introduction to Agent-Based Modeling\n",
    "\n",
    "- **Instructor: Minsu Jang**, Postdoc @Behave Lab\n",
    "- University of Milan, Computational Social Science Workshop"
   ]
  },
  {
   "cell_type": "markdown",
   "id": "1d3bb768",
   "metadata": {
    "slideshow": {
     "slide_type": "slide"
    }
   },
   "source": [
    "# Agenda of the day...\n",
    "\n",
    "1. What's ABM?\n",
    "2. How AMBs work\n",
    "3. Introduction to `mesa` library\n",
    "4. Hands-on practice of programming a Bounded-Confidence (BC) Model of Opinion Formation."
   ]
  },
  {
   "cell_type": "markdown",
   "id": "ac031538",
   "metadata": {
    "slideshow": {
     "slide_type": "slide"
    }
   },
   "source": [
    "## What Is an Agent-Based Model (ABM)?\n",
    "- A simulation of **individual agents** with rules governing their behavior.\n",
    "- Focuses on **interaction** between **heterogeneous agents** embedded in given **social structures**.\n",
    "- System-level (macro-level) patterns **emerge** from these interactions.\n",
    "\n",
    "> \"ABMs are generative tools: they show how macro-patterns can emerge from micro-rules.\" – *Manzo (2022)*"
   ]
  },
  {
   "cell_type": "markdown",
   "id": "a8b57ac6",
   "metadata": {
    "slideshow": {
     "slide_type": "slide"
    }
   },
   "source": [
    "# How Are ABMs Different from Game-Theoretic Analytical Models?\n",
    "\n",
    "<br> \n",
    "\n",
    "Briefly speaking, ...\n",
    "\n",
    "- **Analytical (Game-Theoretic) Models:**\n",
    "    - Start with **utility functions** with rational choice assumptions  \n",
    "    - Use **backward induction**\n",
    "    - Aim to **predict optimal strategies** under specific constraints\n",
    "\n",
    "\n",
    "- **Agent-Based Models (ABMs):**\n",
    "    - Start with **behavioral rules** and **interaction mechanisms**\n",
    "    - Let agents **interact over time** through computer simulation\n",
    "    - Aim to **observe emergent patterns** (e.g., norms, polarization, diffusion, cooperation)\n",
    "\n",
    "👉 ABMs are generative; game theory is deductive."
   ]
  },
  {
   "cell_type": "markdown",
   "id": "d53294d9",
   "metadata": {
    "slideshow": {
     "slide_type": "slide"
    }
   },
   "source": [
    "# Key Components of ABMs\n",
    "1. **Agents** \n",
    "2. **Environment**  \n",
    "3. **Rules of Interaction** \n",
    "4. **Time** — step-wise simulation to observe dynamics\n",
    "\n",
    "ABMs are built with this structure in mind."
   ]
  },
  {
   "cell_type": "markdown",
   "id": "8965df7f",
   "metadata": {
    "slideshow": {
     "slide_type": "slide"
    }
   },
   "source": [
    "## How ABMs Work \n",
    "\n",
    "1. Initialize agents with properties.\n",
    "2. At each step:\n",
    "   - Agents observe neighbors/environment.\n",
    "   - Apply behavior rules.\n",
    "   - States get updated.\n",
    "3. Record macro-level outcomes.\n",
    "\n",
    "👉 Keep track of emergence over iterations"
   ]
  },
  {
   "cell_type": "markdown",
   "id": "9ebc8226",
   "metadata": {
    "slideshow": {
     "slide_type": "subslide"
    }
   },
   "source": [
    "<img src=\"abm_structure1.png\" alt=\"ABM as Mechanism Explorer\" width=\"3300\">"
   ]
  },
  {
   "cell_type": "markdown",
   "id": "2be2aae0",
   "metadata": {
    "slideshow": {
     "slide_type": "subslide"
    }
   },
   "source": [
    "![Fitting data into ABM](abm_structure2.png)"
   ]
  },
  {
   "cell_type": "markdown",
   "id": "4eeb0c04",
   "metadata": {
    "slideshow": {
     "slide_type": "slide"
    }
   },
   "source": [
    "# Examples of Programming Tools for ABMs\n",
    "\n",
    "1. `NetLogo`\n",
    "2. **`mesa` (`python` based)**\n",
    "3. `MASON` (`Java` based)\n",
    "4. `Agents.jl` (`Julia` based)\n",
    "5. `SWARM`\n",
    "6. `ABM` package in `R`"
   ]
  },
  {
   "cell_type": "markdown",
   "id": "49c402c7",
   "metadata": {
    "slideshow": {
     "slide_type": "-"
    }
   },
   "source": [
    "## What is `MESA`?\n",
    "\n",
    "- Python library for building ABMs\n",
    "- Inspired by NetLogo but more flexible and expandable\n",
    "- Supports:\n",
    "  - Agent & environment classes\n",
    "  - Visualizations \n",
    "  - Batch runs & data export\n",
    "\n",
    "We'll use `mesa` in today’s session."
   ]
  },
  {
   "cell_type": "markdown",
   "id": "8e941c8e",
   "metadata": {
    "slideshow": {
     "slide_type": "subslide"
    }
   },
   "source": [
    "# Why `MESA`?\n",
    "\n",
    "- **Python-native**: integrates smoothly with useful `python` tools like `NumPy, pandas, matplotlib, and scikit-learn`  \n",
    "- **Modular and extensible**: easily build and modify custom agents, models, and environments  \n",
    "- **Built-in visualization**: web-based interfaces \n",
    "- **Open-source and research-ready**: transparent, documented, and actively maintained  \n",
    "- **Comprehensive and accessible**: clean structure, easy setup, and supports interactive exploration"
   ]
  },
  {
   "cell_type": "markdown",
   "id": "fc009051",
   "metadata": {
    "slideshow": {
     "slide_type": "fragment"
    }
   },
   "source": [
    "![developrersurvey](developersurvey.png)"
   ]
  },
  {
   "cell_type": "markdown",
   "id": "41543d5f",
   "metadata": {
    "slideshow": {
     "slide_type": "slide"
    }
   },
   "source": [
    "# How does `MESA` work?\n",
    "\n",
    "> `Mesa` is \"modular,\" meaning that its **1) modeling, 2) analysis, and 3) visualization** components are kept **separate but intended to work together.**\n",
    "\n",
    "### Bulding Blocks \n",
    "1. Modeling Modules: \n",
    "    1. Classes used to build the models themselves: \n",
    "        - `model` and `agent` classes. \n",
    "        - `space` where agents reside and interact.\n",
    "        - built-in functions to manage agents/environments.\n"
   ]
  },
  {
   "cell_type": "markdown",
   "id": "2fc66779",
   "metadata": {
    "slideshow": {
     "slide_type": "subslide"
    }
   },
   "source": [
    "2. Analysis Modules: \n",
    "    1. Tools to collect data generated from the simulation: e.g., `datacollector`\n",
    "    2. Tools to run models multiple times: e.g., `batchrunner`\n",
    "\n",
    "<br>\n",
    "\n",
    "3. Visualization Modules: \n",
    "    1. Classes to create and launch an interactive model visualization (using a browser-based interface)."
   ]
  },
  {
   "cell_type": "markdown",
   "id": "c284417c",
   "metadata": {
    "slideshow": {
     "slide_type": "slide"
    }
   },
   "source": [
    "# Modeling Module Example: \n",
    "\n",
    "1. `agent` class defines 1) attributes of agents, and 2) how each agents behaves.\n",
    "\n"
   ]
  },
  {
   "cell_type": "code",
   "execution_count": 3,
   "id": "a6d982fe",
   "metadata": {},
   "outputs": [
    {
     "name": "stderr",
     "output_type": "stream",
     "text": [
      "/opt/anaconda3/envs/BCModel/lib/python3.11/site-packages/tqdm/auto.py:21: TqdmWarning: IProgress not found. Please update jupyter and ipywidgets. See https://ipywidgets.readthedocs.io/en/stable/user_install.html\n",
      "  from .autonotebook import tqdm as notebook_tqdm\n"
     ]
    }
   ],
   "source": [
    "# example code\n",
    "from mesa import Agent, Model, space\n",
    "\n",
    "class MyAgent(Agent):\n",
    "    def __init__(self, model, age):\n",
    "        super().__init__(model)\n",
    "        self.age = age\n",
    "\n",
    "    def step(self): # defines how an agent behaves at each \"time\" of interaction\n",
    "        self.age += 1\n",
    "        print(f\"Agent {self.unique_id} now is {self.age} years old\")\n",
    "        # Whatever else the agent does when activated..."
   ]
  },
  {
   "cell_type": "markdown",
   "id": "228215d6",
   "metadata": {
    "slideshow": {
     "slide_type": "subslide"
    }
   },
   "source": [
    "# Modeling Modules Example: \n",
    "\n",
    "2. `model` class defines 1) system-wise attributes, and 2) how the system works.\n",
    "\n",
    "3. `space` class defines how agents are placed in the system."
   ]
  },
  {
   "cell_type": "code",
   "execution_count": 4,
   "id": "bcf5a587",
   "metadata": {
    "slideshow": {
     "slide_type": "subslide"
    }
   },
   "outputs": [],
   "source": [
    "# example code\n",
    "class MyModel(Model):\n",
    "    def __init__(self, n_agents):\n",
    "        super().__init__()\n",
    "        self.grid = space.MultiGrid(10, 10, torus=True)\n",
    "        for _ in range(n_agents):\n",
    "            initial_age = self.random.randint(0, 80)\n",
    "            a = MyAgent(self, initial_age)\n",
    "            coords = (self.random.randrange(0, 10), self.random.randrange(0, 10))\n",
    "            self.grid.place_agent(a, coords)\n",
    "\n",
    "    def step(self):\n",
    "        self.agents.shuffle_do(\"step\")"
   ]
  },
  {
   "cell_type": "code",
   "execution_count": 5,
   "id": "9af170a2",
   "metadata": {},
   "outputs": [],
   "source": [
    "mymodel = MyModel(10)"
   ]
  },
  {
   "cell_type": "code",
   "execution_count": 6,
   "id": "5faae1a1",
   "metadata": {},
   "outputs": [
    {
     "data": {
      "text/plain": [
       "[79, 61, 58, 51, 10, 32, 29, 28, 64, 11]"
      ]
     },
     "execution_count": 6,
     "metadata": {},
     "output_type": "execute_result"
    }
   ],
   "source": [
    "agent_ages=[agent.age for agent in mymodel.agents]; agent_ages"
   ]
  },
  {
   "cell_type": "code",
   "execution_count": 8,
   "id": "cedc1413",
   "metadata": {},
   "outputs": [
    {
     "name": "stdout",
     "output_type": "stream",
     "text": [
      "Agent 6 now is 33 years old\n",
      "Agent 3 now is 59 years old\n",
      "Agent 5 now is 11 years old\n",
      "Agent 2 now is 62 years old\n",
      "Agent 1 now is 80 years old\n",
      "Agent 10 now is 12 years old\n",
      "Agent 7 now is 30 years old\n",
      "Agent 8 now is 29 years old\n",
      "Agent 9 now is 65 years old\n",
      "Agent 4 now is 52 years old\n"
     ]
    }
   ],
   "source": [
    "mymodel.step()"
   ]
  },
  {
   "cell_type": "code",
   "execution_count": 7,
   "id": "34a6ac73",
   "metadata": {},
   "outputs": [
    {
     "data": {
      "text/plain": [
       "<mesa.space.MultiGrid at 0x198434c90>"
      ]
     },
     "execution_count": 7,
     "metadata": {},
     "output_type": "execute_result"
    }
   ],
   "source": [
    "mymodel.agents[0].model.grid"
   ]
  },
  {
   "cell_type": "markdown",
   "id": "5c1e38de",
   "metadata": {
    "slideshow": {
     "slide_type": "slide"
    }
   },
   "source": [
    "# Application: Bounded Confidence Model of Opinion Formation"
   ]
  },
  {
   "cell_type": "markdown",
   "id": "45b54f64",
   "metadata": {
    "slideshow": {
     "slide_type": "slide"
    }
   },
   "source": [
    "# Modeling Opinion Formation with ABMs\n",
    "\n",
    "\n",
    "### Why model opinion formation?\n",
    "\n",
    "👉 Agent-based models help us study how opinions **evolve over time** through **local interactions**.\n",
    "\n",
    "\n"
   ]
  },
  {
   "cell_type": "markdown",
   "id": "f21ee364",
   "metadata": {
    "slideshow": {
     "slide_type": "fragment"
    }
   },
   "source": [
    "\n",
    "### Key Motivations:\n",
    "- Understand **polarization**, **consensus**, and **radicalization**\n",
    "- Simulate the role of **social influence**, **network structure**, and **media exposure**\n",
    "- Explore how **micro-level rules** lead to **macro-level opinion patterns**\n"
   ]
  },
  {
   "cell_type": "markdown",
   "id": "f269f5c5",
   "metadata": {
    "slideshow": {
     "slide_type": "slide"
    }
   },
   "source": [
    "\n",
    "## Common ABM Approaches to Opinion Formation:\n"
   ]
  },
  {
   "cell_type": "markdown",
   "id": "82d308db",
   "metadata": {
    "slideshow": {
     "slide_type": "fragment"
    }
   },
   "source": [
    "### **1. DeGroot Model (Linear Averaging)**  \n",
    "\n",
    "Agents update their opinions by averaging the (weighted) opinions of their neighbors:\n",
    "\n",
    "$$\n",
    "x_i(t+1) = \\sum_{j \\in \\mathcal{N}_i} w_{ij} \\cdot x_j(t)\n",
    "$$\n",
    "\n",
    "- $( x_i(t) )$: opinion of agent $( i )$ at time $( t )$  \n",
    "\n",
    "- $( w_{ij} )$: weight assigned to agent $( j )$'s opinion  \n",
    "\n",
    "- $( \\mathcal{N}_i )$: set of neighbors of agent $( i )$"
   ]
  },
  {
   "cell_type": "markdown",
   "id": "8584282c",
   "metadata": {
    "slideshow": {
     "slide_type": "subslide"
    }
   },
   "source": [
    "### **2. Bounded Confidence Model (e.g., Deffuant or Hegselmann-Krause)**  \n",
    "\n",
    "Agents interact only if their opinions are within a confidence threshold $( \\varepsilon )$.\n",
    "\n",
    "Let $( \\mathcal{N}_i(t) )$ be the set of agents whose opinions are close enough to agent $( i )$:\n",
    "\n",
    "$$\n",
    "\\mathcal{N}_i(t) = \\left\\{ j \\mid |x_j(t) - x_i(t)| < \\varepsilon \\right\\}\n",
    "$$\n",
    "\n",
    "Then the opinion of agent $( i )$ is updated as:\n",
    "\n",
    "$$\n",
    "x_i(t+1) = \\frac{1}{|\\mathcal{N}_i(t)|} \\sum_{j \\in \\mathcal{N}_i(t)} x_j(t)\n",
    "$$\n",
    "\n"
   ]
  },
  {
   "cell_type": "markdown",
   "id": "4aee5552",
   "metadata": {
    "slideshow": {
     "slide_type": "slide"
    }
   },
   "source": [
    "# Bounded Confidence (BC) Model Details\n",
    "\n",
    "<br> \n",
    "\n",
    "The **Bounded Confidence Model** is a model of opinion dynamics where:\n",
    "\n",
    "- Each agent holds a continuous opinion (e.g., a number between 0 and 1)\n",
    "- Agents **only interact with others whose opinions are within a confidence bound** (ε)\n",
    "- When agents interact, they adjust their opinions **toward each other**\n",
    "\n",
    "<br>\n",
    "\n",
    "**Key Features:**\n",
    "- Models **homophily** and **confirmation bias**\n",
    "- Leads to **consensus**, **polarization**, or **fragmentation**\n",
    "- Widely used to study **opinion dynamics**, **polarization**, and **social learning**\n",
    "\n",
    "> *\"Agents are influenced only by those whose views are already somewhat aligned with their own.\"*"
   ]
  },
  {
   "cell_type": "markdown",
   "id": "b8e74d0b",
   "metadata": {
    "slideshow": {
     "slide_type": "slide"
    }
   },
   "source": [
    "# BC modeling practice in `mesa`\n",
    "\n",
    "### What the model does\n",
    "- Simulates how individuals (agents) form and adjust opinions over time.\n",
    "- Models **opinion dynamics** using the Bounded Confidence framework (Hegselmann–Krause-style).\n",
    "- Explores how interaction thresholds (ε) and randomness (μ) affect **polarization**, **consensus**, or **fragmentation**.\n",
    "\n",
    "<br>\n",
    "\n",
    "### How the model works\n",
    "- Each agent has:\n",
    "  - An **opinion**: a number between 0 and 1\n",
    "  - A **confidence bound** (ε): only influenced by others within ε-distance\n",
    "- Each step:\n",
    "  1. Agents average opinions of others within ε of their own\n",
    "  2. With probability μ, agents may randomly reset opinion to a new value ∈ [0, 1]\n",
    "- All agents are influenced in parallel at each time tick.\n",
    "\n",
    "\n"
   ]
  },
  {
   "cell_type": "markdown",
   "id": "eba2a2a5",
   "metadata": {
    "slideshow": {
     "slide_type": "subslide"
    }
   },
   "source": [
    "### How we implement it in Mesa\n",
    "- **`Person` class**:\n",
    "  - Represents an individual agent\n",
    "  - Implements `update_opinion()` and `random_opinion_change()` behaviors\n",
    "- **`BCModel` class**:\n",
    "  - Creates agents, stores global parameters (μ, ε)\n",
    "  - Advances the model through a `step()` function\n",
    "- Uses `mesa.Model` and `mesa.Agent` as the base classes."
   ]
  },
  {
   "cell_type": "markdown",
   "id": "1dc6808e",
   "metadata": {
    "slideshow": {
     "slide_type": "slide"
    }
   },
   "source": [
    "Let's program the model in `mesa`!"
   ]
  },
  {
   "cell_type": "code",
   "execution_count": 9,
   "id": "8659f790",
   "metadata": {},
   "outputs": [],
   "source": [
    "# import required libraries\n",
    "import numpy as np\n",
    "from mesa import Agent\n",
    "from typing import List, Dict, Any"
   ]
  },
  {
   "cell_type": "markdown",
   "id": "f11c6858",
   "metadata": {},
   "source": [
    "First, define `Agent` class of our model!"
   ]
  },
  {
   "cell_type": "code",
   "execution_count": 11,
   "id": "06a844d3",
   "metadata": {
    "slideshow": {
     "slide_type": "fragment"
    }
   },
   "outputs": [],
   "source": [
    "class Person(Agent):\n",
    "    \"\"\"\n",
    "    A Person agent with an opinion that can be influenced by other agents.\n",
    "    \n",
    "    This agent implements the Bounded Confidence (BC) model of opinion dynamics,\n",
    "    where agents only consider opinions of others if they are within their\n",
    "    bound of confidence (epsilon).\n",
    "    \n",
    "    Attributes:\n",
    "        opinion (float): The agent's current opinion (between 0 and 1)\n",
    "        epsilon (float): Bound of confidence i.e., how far an opinion can be from own to still exert influence\n",
    "    \"\"\"\n",
    "    def __init__(self, model: Any, opinion: float, epsilon: float):\n",
    "        super().__init__(model)\n",
    "        if not 0 <= opinion <= 1:\n",
    "            raise ValueError(\"Opinion must be a float between 0 and 1.\")\n",
    "        self.opinion = opinion \n",
    "        if not 0 <= epsilon <= 1:\n",
    "            raise ValueError(\"Bound of confidence must be a float between 0 and 1.\")\n",
    "        self.epsilon = epsilon"
   ]
  },
  {
   "cell_type": "code",
   "execution_count": null,
   "id": "49f49e73",
   "metadata": {
    "slideshow": {
     "slide_type": "subslide"
    }
   },
   "outputs": [],
   "source": [
    "    def update_opinion(self) -> None:\n",
    "        \"\"\"\n",
    "        Update the agent's opinion based on the opinions of others within their bound of confidence.\n",
    "        \n",
    "        The agent finds all other agents whose opinions are within their bound of confidence\n",
    "        and updates their own opinion to the mean of those opinions.\n",
    "        \n",
    "        If no influencing agents are found, the opinion remains unchanged.\n",
    "        \"\"\"\n",
    "        influencing_agents_opinions: List[float] = [\n",
    "            agent.opinion for agent in self.model._all_agents\n",
    "            if (abs(agent.opinion - self.opinion) < self.epsilon) and (agent.unique_id != self.unique_id)\n",
    "            ]\n",
    "        # Only update if there are influencing agents\n",
    "        if influencing_agents_opinions:\n",
    "            self.opinion = np.mean(influencing_agents_opinions)\n",
    "    \n",
    "    def random_opinion_change(self) -> None:\n",
    "        \"\"\"\n",
    "        Randomly change opinion with probability mu (set in the BCModel class, same for each agent).\n",
    "        \n",
    "        The agent has a probability mu of changing its opinion to a random value\n",
    "        between 0 and 1, simulating external influences or individual exploration.\n",
    "        \"\"\"\n",
    "        if np.random.uniform(0, 1) < self.model.mu:\n",
    "            self.opinion = self.model.np_random.uniform(0, 1)\n",
    "    \n",
    "    def tick(self) -> None:\n",
    "        \"\"\"\n",
    "        Execute one step for the agent.\n",
    "        \n",
    "        First updates opinion based on others' influence, then potentially\n",
    "        applies a random opinion change.\n",
    "        \"\"\"\n",
    "        self.update_opinion()\n",
    "        self.random_opinion_change()"
   ]
  },
  {
   "cell_type": "code",
   "execution_count": 2,
   "id": "29b47c46",
   "metadata": {
    "slideshow": {
     "slide_type": "subslide"
    }
   },
   "outputs": [],
   "source": [
    "class Person(Agent):\n",
    "    \"\"\"\n",
    "    A Person agent with an opinion that can be influenced by other agents.\n",
    "    \n",
    "    This agent implements the Bounded Confidence (BC) model of opinion dynamics,\n",
    "    where agents only consider opinions of others if they are within their\n",
    "    bound of confidence (epsilon).\n",
    "    \n",
    "    Attributes:\n",
    "        opinion (float): The agent's current opinion (between 0 and 1)\n",
    "        epsilon (float): Bound of confidence i.e., how far an opinion can be from own to still exert influence\n",
    "    \"\"\"\n",
    "    def __init__(self, model: Any, opinion: float, epsilon: float):\n",
    "        super().__init__(model)\n",
    "        if not 0 <= opinion <= 1:\n",
    "            raise ValueError(\"Opinion must be a float between 0 and 1.\")\n",
    "        self.opinion = opinion \n",
    "        if not 0 <= epsilon <= 1:\n",
    "            raise ValueError(\"Bound of confidence must be a float between 0 and 1.\")\n",
    "        self.epsilon = epsilon\n",
    "        \n",
    "    def update_opinion(self) -> None:\n",
    "        \"\"\"\n",
    "        Update the agent's opinion based on the opinions of others within their bound of confidence.\n",
    "        \n",
    "        The agent finds all other agents whose opinions are within their bound of confidence\n",
    "        and updates their own opinion to the mean of those opinions.\n",
    "        \n",
    "        If no influencing agents are found, the opinion remains unchanged.\n",
    "        \"\"\"\n",
    "        influencing_agents_opinions: List[float] = [\n",
    "            agent.opinion for agent in self.model._all_agents\n",
    "            if (abs(agent.opinion - self.opinion) < self.epsilon) and (agent.unique_id != self.unique_id)\n",
    "            ]\n",
    "        # Only update if there are influencing agents\n",
    "        if influencing_agents_opinions:\n",
    "            self.opinion = np.mean(influencing_agents_opinions)\n",
    "    \n",
    "    def random_opinion_change(self) -> None:\n",
    "        \"\"\"\n",
    "        Randomly change opinion with probability mu (set in the BCModel class, same for each agent).\n",
    "        \n",
    "        The agent has a probability mu of changing its opinion to a random value\n",
    "        between 0 and 1, simulating external influences or individual exploration.\n",
    "        \"\"\"\n",
    "        if np.random.uniform(0, 1) < self.model.mu:\n",
    "            self.opinion = self.model.np_random.uniform(0, 1)\n",
    "    \n",
    "    def tick(self) -> None:\n",
    "        \"\"\"\n",
    "        Execute one step for the agent.\n",
    "        \n",
    "        First updates opinion based on others' influence, then potentially\n",
    "        applies a random opinion change.\n",
    "        \"\"\"\n",
    "        self.update_opinion()\n",
    "        self.random_opinion_change()"
   ]
  },
  {
   "cell_type": "markdown",
   "id": "9626e2af",
   "metadata": {
    "slideshow": {
     "slide_type": "slide"
    }
   },
   "source": [
    "Define some useful functions we will be using under `Model` class"
   ]
  },
  {
   "cell_type": "code",
   "execution_count": 12,
   "id": "03acc767",
   "metadata": {},
   "outputs": [],
   "source": [
    "def get_mean_opinions(model):\n",
    "    return np.mean([agent.opinion for agent in model._all_agents])\n",
    "\n",
    "def get_median_opinions(model):\n",
    "    return np.median([agent.opinion for agent in model._all_agents])\n",
    "\n",
    "def get_opinion_distribution(model):\n",
    "    return [agent.opinion for agent in model._all_agents]\n",
    "\n",
    "def get_mu(model):\n",
    "    return model.mu\n",
    "\n",
    "def get_agent_epsilon(agent):\n",
    "    return agent.epsilon"
   ]
  },
  {
   "cell_type": "markdown",
   "id": "3fe1922d",
   "metadata": {
    "slideshow": {
     "slide_type": "slide"
    }
   },
   "source": [
    "Define how system (i.e., macro-level model) works."
   ]
  },
  {
   "cell_type": "code",
   "execution_count": 13,
   "id": "afda48ae",
   "metadata": {},
   "outputs": [],
   "source": [
    "from mesa import Model, DataCollector"
   ]
  },
  {
   "cell_type": "code",
   "execution_count": 14,
   "id": "94f928ea",
   "metadata": {},
   "outputs": [
    {
     "ename": "NameError",
     "evalue": "name 'Union' is not defined",
     "output_type": "error",
     "traceback": [
      "\u001b[31m---------------------------------------------------------------------------\u001b[39m",
      "\u001b[31mNameError\u001b[39m                                 Traceback (most recent call last)",
      "\u001b[36mCell\u001b[39m\u001b[36m \u001b[39m\u001b[32mIn[14]\u001b[39m\u001b[32m, line 1\u001b[39m\n\u001b[32m----> \u001b[39m\u001b[32m1\u001b[39m \u001b[38;5;28;43;01mclass\u001b[39;49;00m\u001b[38;5;250;43m \u001b[39;49m\u001b[34;43;01mBCModel\u001b[39;49;00m\u001b[43m(\u001b[49m\u001b[43mModel\u001b[49m\u001b[43m)\u001b[49m\u001b[43m:\u001b[49m\n\u001b[32m      2\u001b[39m \u001b[43m    \u001b[49m\u001b[38;5;28;43;01mdef\u001b[39;49;00m\u001b[38;5;250;43m \u001b[39;49m\u001b[34;43m__init__\u001b[39;49m\u001b[43m(\u001b[49m\u001b[38;5;28;43mself\u001b[39;49m\u001b[43m,\u001b[49m\u001b[43m \u001b[49m\u001b[43mparams\u001b[49m\u001b[43m:\u001b[49m\u001b[43m \u001b[49m\u001b[43mDict\u001b[49m\u001b[43m[\u001b[49m\u001b[38;5;28;43mstr\u001b[39;49m\u001b[43m,\u001b[49m\u001b[43m \u001b[49m\u001b[43mUnion\u001b[49m\u001b[43m[\u001b[49m\u001b[38;5;28;43mint\u001b[39;49m\u001b[43m,\u001b[49m\u001b[43m \u001b[49m\u001b[38;5;28;43mfloat\u001b[39;49m\u001b[43m]\u001b[49m\u001b[43m]\u001b[49m\u001b[43m)\u001b[49m\u001b[43m:\u001b[49m\n\u001b[32m      3\u001b[39m \u001b[43m        \u001b[49m\u001b[38;5;66;43;03m# Mandatory on Mesa v3\u001b[39;49;00m\n\u001b[32m      4\u001b[39m \u001b[43m        \u001b[49m\u001b[38;5;28;43msuper\u001b[39;49m\u001b[43m(\u001b[49m\u001b[43m)\u001b[49m\u001b[43m.\u001b[49m\u001b[34;43m__init__\u001b[39;49m\u001b[43m(\u001b[49m\u001b[43mseed\u001b[49m\u001b[43m=\u001b[49m\u001b[43mparams\u001b[49m\u001b[43m.\u001b[49m\u001b[43mget\u001b[49m\u001b[43m(\u001b[49m\u001b[33;43m\"\u001b[39;49m\u001b[33;43mseed\u001b[39;49m\u001b[33;43m\"\u001b[39;49m\u001b[43m)\u001b[49m\u001b[43m)\u001b[49m\u001b[43m \u001b[49m\u001b[38;5;66;43;03m# Setting Mesa's seed\u001b[39;49;00m\n",
      "\u001b[36mCell\u001b[39m\u001b[36m \u001b[39m\u001b[32mIn[14]\u001b[39m\u001b[32m, line 2\u001b[39m, in \u001b[36mBCModel\u001b[39m\u001b[34m()\u001b[39m\n\u001b[32m      1\u001b[39m \u001b[38;5;28;01mclass\u001b[39;00m\u001b[38;5;250m \u001b[39m\u001b[34;01mBCModel\u001b[39;00m(Model):\n\u001b[32m----> \u001b[39m\u001b[32m2\u001b[39m     \u001b[38;5;28;01mdef\u001b[39;00m\u001b[38;5;250m \u001b[39m\u001b[34m__init__\u001b[39m(\u001b[38;5;28mself\u001b[39m, params: Dict[\u001b[38;5;28mstr\u001b[39m, \u001b[43mUnion\u001b[49m[\u001b[38;5;28mint\u001b[39m, \u001b[38;5;28mfloat\u001b[39m]]):\n\u001b[32m      3\u001b[39m         \u001b[38;5;66;03m# Mandatory on Mesa v3\u001b[39;00m\n\u001b[32m      4\u001b[39m         \u001b[38;5;28msuper\u001b[39m().\u001b[34m__init__\u001b[39m(seed=params.get(\u001b[33m\"\u001b[39m\u001b[33mseed\u001b[39m\u001b[33m\"\u001b[39m)) \u001b[38;5;66;03m# Setting Mesa's seed\u001b[39;00m\n\u001b[32m      6\u001b[39m         \u001b[38;5;66;03m# Parameter values\u001b[39;00m\n",
      "\u001b[31mNameError\u001b[39m: name 'Union' is not defined"
     ]
    }
   ],
   "source": [
    "class BCModel(Model):\n",
    "    def __init__(self, params: Dict[str, Union[int, float]]):\n",
    "        # Mandatory on Mesa v3\n",
    "        super().__init__(seed=params.get(\"seed\")) # Setting Mesa's seed\n",
    "\n",
    "        # Parameter values\n",
    "        self.num_agents: int = params.get(\"num_agents\")\n",
    "        self.epsilon_max: float = params.get(\"epsilon_max\")\n",
    "        self.epsilon_min: float = params.get(\"epsilon_min\")\n",
    "        self.alpha: int = params.get(\"alpha\")\n",
    "        self.beta: int = params.get(\"beta\")\n",
    "        self.mu: float = params.get(\"mu\")\n",
    "        self.num_runs: int = params.get(\"num_runs\")\n",
    "\n",
    "        # Setting numpy's seed\n",
    "        self.np_random = np.random.default_rng(params.get(\"seed\"))\n",
    "\n",
    "        # Create agents\n",
    "        for i in range(self.num_agents):\n",
    "            Person(\n",
    "                model = self,\n",
    "                opinion = self.np_random.uniform(0, 1),  # New random opinion for each agent\n",
    "                epsilon = self.calculate_epsilon()  # New epsilon for each agent\n",
    "                )\n",
    "            \n",
    "        # Pickable DataCollector instance\n",
    "        self.datacollector = DataCollector(\n",
    "            model_reporters={\n",
    "                \"MeanOpinions\": get_mean_opinions,\n",
    "                \"MedianOpinions\": get_median_opinions,\n",
    "                \"OpinionDistr\": get_opinion_distribution,\n",
    "                \"mu\": get_mu\n",
    "            },\n",
    "            agent_reporters={\n",
    "                \"epsilon\": get_agent_epsilon\n",
    "            }\n",
    "        )"
   ]
  },
  {
   "cell_type": "code",
   "execution_count": null,
   "id": "62175f95",
   "metadata": {
    "slideshow": {
     "slide_type": "subslide"
    }
   },
   "outputs": [],
   "source": [
    "    def calculate_epsilon(self) -> float:\n",
    "        \"\"\"\n",
    "        Sample from a scaled Beta(alpha, beta) distribution (Lorenz, 2010).\n",
    "        \"\"\"\n",
    "        x: float = self.np_random.gamma(shape=self.alpha, scale=1.0)\n",
    "        y: float = self.np_random.gamma(shape=self.beta, scale=1.0)\n",
    "        beta_sample = x / (x + y)\n",
    "        return self.epsilon_min + beta_sample * (self.epsilon_max - self.epsilon_min)\n",
    "\n",
    "    def step(self) -> None:\n",
    "        \n",
    "        for _ in range(self.num_runs):\n",
    "            # Make agents act (assuming a custom method)\n",
    "            self.agents.shuffle_do(\"tick\")\n",
    "        \n",
    "            # Collect results\n",
    "            self.datacollector.collect(self) "
   ]
  },
  {
   "cell_type": "code",
   "execution_count": 15,
   "id": "ea04910d",
   "metadata": {
    "slideshow": {
     "slide_type": "skip"
    }
   },
   "outputs": [],
   "source": [
    "\"\"\"\n",
    "Bounded Confidence model for opinion dynamics simulation.\n",
    "This module contains the BCModel class that implements the model.\n",
    "\"\"\"\n",
    "\n",
    "from mesa import Model, DataCollector\n",
    "from agent import Person\n",
    "import numpy as np\n",
    "from typing import Dict, Union\n",
    "# Import from utilities\n",
    "from utilities import (\n",
    "    get_mean_opinions,\n",
    "    get_median_opinions,\n",
    "    get_opinion_distribution,\n",
    "    get_mu,\n",
    "    get_agent_epsilon\n",
    ")\n",
    "\n",
    "class BCModel(Model):\n",
    "    \"\"\"\n",
    "    Model class for the Bounded Confidence (BC) model of opinion dynamics.\n",
    "    \n",
    "    The model initializes a population of Person agents with random opinions\n",
    "    and epsilon values as in Lorenz (2010). \n",
    "\n",
    "    Agents update their opinions based on other agents' opinions that are within their bounds of confidence.\n",
    "    \"\"\"\n",
    "\n",
    "    def __init__(self, params: Dict[str, Union[int, float]]):\n",
    "        # Mandatory on Mesa v3\n",
    "        super().__init__(seed=params.get(\"seed\")) # Setting Mesa's seed\n",
    "\n",
    "        # Parameter values\n",
    "        self.num_agents: int = params.get(\"num_agents\")\n",
    "        self.epsilon_max: float = params.get(\"epsilon_max\")\n",
    "        self.epsilon_min: float = params.get(\"epsilon_min\")\n",
    "        self.alpha: int = params.get(\"alpha\")\n",
    "        self.beta: int = params.get(\"beta\")\n",
    "        self.mu: float = params.get(\"mu\")\n",
    "        self.num_runs: int = params.get(\"num_runs\")\n",
    "\n",
    "        # Setting numpy's seed\n",
    "        self.np_random = np.random.default_rng(params.get(\"seed\"))\n",
    "\n",
    "        # Create agents\n",
    "        for i in range(self.num_agents):\n",
    "            Person(\n",
    "                model = self,\n",
    "                opinion = self.np_random.uniform(0, 1),  # New random opinion each agent\n",
    "                epsilon = self.calculate_epsilon()  # New epsilon each agent\n",
    "                )\n",
    "        \n",
    "        # Pickable DataCollector instance\n",
    "        self.datacollector = DataCollector(\n",
    "            model_reporters={\n",
    "                \"MeanOpinions\": get_mean_opinions,\n",
    "                \"MedianOpinions\": get_median_opinions,\n",
    "                \"OpinionDistr\": get_opinion_distribution,\n",
    "                \"mu\": get_mu\n",
    "            },\n",
    "            agent_reporters={\n",
    "                \"epsilon\": get_agent_epsilon\n",
    "            }\n",
    "        )\n",
    "\n",
    "    def calculate_epsilon(self) -> float:\n",
    "        \"\"\"\n",
    "        Sample from a scaled Beta(alpha, beta) distribution (Lorenz, 2010).\n",
    "        \"\"\"\n",
    "        x: float = self.np_random.gamma(shape=self.alpha, scale=1.0)\n",
    "        y: float = self.np_random.gamma(shape=self.beta, scale=1.0)\n",
    "        beta_sample = x / (x + y)\n",
    "        return self.epsilon_min + beta_sample * (self.epsilon_max - self.epsilon_min)\n",
    "\n",
    "    def step(self) -> None:\n",
    "        \n",
    "        for _ in range(self.num_runs):\n",
    "            # Make agents act (assuming a custom method)\n",
    "            self.agents.shuffle_do(\"tick\")\n",
    "        \n",
    "            # Collect results\n",
    "            self.datacollector.collect(self) "
   ]
  },
  {
   "cell_type": "markdown",
   "id": "f5b31afb",
   "metadata": {
    "slideshow": {
     "slide_type": "slide"
    }
   },
   "source": [
    "Let's try to run the model.\n",
    "\n",
    "First, let's define the input parameters and build a model."
   ]
  },
  {
   "cell_type": "code",
   "execution_count": 10,
   "id": "0eeb8bca",
   "metadata": {},
   "outputs": [],
   "source": [
    "params = {\n",
    "    \"seed\": 100, \n",
    "    \"num_agents\": 200, \n",
    "    \"epsilon_max\": 0.30, \n",
    "    \"epsilon_min\": 0,\n",
    "    \"alpha\": 2,\n",
    "    \"beta\": 4,\n",
    "    \"mu\": 0, \n",
    "    \"num_runs\": 300\n",
    "}"
   ]
  },
  {
   "cell_type": "code",
   "execution_count": 16,
   "id": "0bc518a6",
   "metadata": {},
   "outputs": [],
   "source": [
    "# buidling the model:\n",
    "model = BCModel(params) "
   ]
  },
  {
   "cell_type": "code",
   "execution_count": 17,
   "id": "c48ea1a5",
   "metadata": {},
   "outputs": [
    {
     "data": {
      "text/plain": [
       "np.float64(0.09931380062176964)"
      ]
     },
     "execution_count": 17,
     "metadata": {},
     "output_type": "execute_result"
    }
   ],
   "source": [
    "# check each agent's epsilon value\n",
    "agent_epsilon=[agent.epsilon for agent in model.agents]; np.mean(agent_epsilon)"
   ]
  },
  {
   "cell_type": "markdown",
   "id": "b90f9a41",
   "metadata": {
    "slideshow": {
     "slide_type": "subslide"
    }
   },
   "source": [
    "Let's run the model now."
   ]
  },
  {
   "cell_type": "code",
   "execution_count": 18,
   "id": "6d781c6e",
   "metadata": {},
   "outputs": [],
   "source": [
    "model.step()"
   ]
  },
  {
   "cell_type": "code",
   "execution_count": 19,
   "id": "7c6041c2",
   "metadata": {},
   "outputs": [
    {
     "data": {
      "text/html": [
       "<div>\n",
       "<style scoped>\n",
       "    .dataframe tbody tr th:only-of-type {\n",
       "        vertical-align: middle;\n",
       "    }\n",
       "\n",
       "    .dataframe tbody tr th {\n",
       "        vertical-align: top;\n",
       "    }\n",
       "\n",
       "    .dataframe thead th {\n",
       "        text-align: right;\n",
       "    }\n",
       "</style>\n",
       "<table border=\"1\" class=\"dataframe\">\n",
       "  <thead>\n",
       "    <tr style=\"text-align: right;\">\n",
       "      <th></th>\n",
       "      <th>MeanOpinions</th>\n",
       "      <th>MedianOpinions</th>\n",
       "      <th>OpinionDistr</th>\n",
       "      <th>mu</th>\n",
       "    </tr>\n",
       "  </thead>\n",
       "  <tbody>\n",
       "    <tr>\n",
       "      <th>0</th>\n",
       "      <td>0.512622</td>\n",
       "      <td>0.497505</td>\n",
       "      <td>[0.8347698077033574, 0.5651603831007759, 0.977...</td>\n",
       "      <td>0</td>\n",
       "    </tr>\n",
       "    <tr>\n",
       "      <th>1</th>\n",
       "      <td>0.513717</td>\n",
       "      <td>0.502903</td>\n",
       "      <td>[0.8410468652967957, 0.535674654395618, 0.9725...</td>\n",
       "      <td>0</td>\n",
       "    </tr>\n",
       "    <tr>\n",
       "      <th>2</th>\n",
       "      <td>0.514898</td>\n",
       "      <td>0.491259</td>\n",
       "      <td>[0.8413000172365628, 0.50741937478537, 0.96345...</td>\n",
       "      <td>0</td>\n",
       "    </tr>\n",
       "    <tr>\n",
       "      <th>3</th>\n",
       "      <td>0.517470</td>\n",
       "      <td>0.481393</td>\n",
       "      <td>[0.8472617234957903, 0.4959736735954013, 0.957...</td>\n",
       "      <td>0</td>\n",
       "    </tr>\n",
       "    <tr>\n",
       "      <th>4</th>\n",
       "      <td>0.519706</td>\n",
       "      <td>0.468138</td>\n",
       "      <td>[0.8548474187940757, 0.47597539283581886, 0.95...</td>\n",
       "      <td>0</td>\n",
       "    </tr>\n",
       "    <tr>\n",
       "      <th>...</th>\n",
       "      <td>...</td>\n",
       "      <td>...</td>\n",
       "      <td>...</td>\n",
       "      <td>...</td>\n",
       "    </tr>\n",
       "    <tr>\n",
       "      <th>295</th>\n",
       "      <td>0.658756</td>\n",
       "      <td>0.551814</td>\n",
       "      <td>[0.9348302592729213, 0.5518139697743635, 0.934...</td>\n",
       "      <td>0</td>\n",
       "    </tr>\n",
       "    <tr>\n",
       "      <th>296</th>\n",
       "      <td>0.658756</td>\n",
       "      <td>0.551814</td>\n",
       "      <td>[0.9348302592729213, 0.5518139697743635, 0.934...</td>\n",
       "      <td>0</td>\n",
       "    </tr>\n",
       "    <tr>\n",
       "      <th>297</th>\n",
       "      <td>0.658756</td>\n",
       "      <td>0.551814</td>\n",
       "      <td>[0.9348302592729213, 0.5518139697743635, 0.934...</td>\n",
       "      <td>0</td>\n",
       "    </tr>\n",
       "    <tr>\n",
       "      <th>298</th>\n",
       "      <td>0.658756</td>\n",
       "      <td>0.551814</td>\n",
       "      <td>[0.9348302592729213, 0.5518139697743635, 0.934...</td>\n",
       "      <td>0</td>\n",
       "    </tr>\n",
       "    <tr>\n",
       "      <th>299</th>\n",
       "      <td>0.658756</td>\n",
       "      <td>0.551814</td>\n",
       "      <td>[0.9348302592729213, 0.5518139697743635, 0.934...</td>\n",
       "      <td>0</td>\n",
       "    </tr>\n",
       "  </tbody>\n",
       "</table>\n",
       "<p>300 rows × 4 columns</p>\n",
       "</div>"
      ],
      "text/plain": [
       "     MeanOpinions  MedianOpinions  \\\n",
       "0        0.512622        0.497505   \n",
       "1        0.513717        0.502903   \n",
       "2        0.514898        0.491259   \n",
       "3        0.517470        0.481393   \n",
       "4        0.519706        0.468138   \n",
       "..            ...             ...   \n",
       "295      0.658756        0.551814   \n",
       "296      0.658756        0.551814   \n",
       "297      0.658756        0.551814   \n",
       "298      0.658756        0.551814   \n",
       "299      0.658756        0.551814   \n",
       "\n",
       "                                          OpinionDistr  mu  \n",
       "0    [0.8347698077033574, 0.5651603831007759, 0.977...   0  \n",
       "1    [0.8410468652967957, 0.535674654395618, 0.9725...   0  \n",
       "2    [0.8413000172365628, 0.50741937478537, 0.96345...   0  \n",
       "3    [0.8472617234957903, 0.4959736735954013, 0.957...   0  \n",
       "4    [0.8548474187940757, 0.47597539283581886, 0.95...   0  \n",
       "..                                                 ...  ..  \n",
       "295  [0.9348302592729213, 0.5518139697743635, 0.934...   0  \n",
       "296  [0.9348302592729213, 0.5518139697743635, 0.934...   0  \n",
       "297  [0.9348302592729213, 0.5518139697743635, 0.934...   0  \n",
       "298  [0.9348302592729213, 0.5518139697743635, 0.934...   0  \n",
       "299  [0.9348302592729213, 0.5518139697743635, 0.934...   0  \n",
       "\n",
       "[300 rows x 4 columns]"
      ]
     },
     "execution_count": 19,
     "metadata": {},
     "output_type": "execute_result"
    }
   ],
   "source": [
    "results = model.datacollector.get_model_vars_dataframe(); results"
   ]
  },
  {
   "cell_type": "markdown",
   "id": "e4d2c4d2",
   "metadata": {
    "slideshow": {
     "slide_type": "subslide"
    }
   },
   "source": [
    "Check the distribution over time."
   ]
  },
  {
   "cell_type": "code",
   "execution_count": 20,
   "id": "6b912dfe",
   "metadata": {
    "scrolled": false,
    "slideshow": {
     "slide_type": "-"
    }
   },
   "outputs": [
    {
     "data": {
      "image/png": "[encoded data removed]",
      "text/plain": [
       "<Figure size 1600x400 with 4 Axes>"
      ]
     },
     "metadata": {},
     "output_type": "display_data"
    }
   ],
   "source": [
    "import matplotlib.pyplot as plt\n",
    "\n",
    "fig, axs = plt.subplots(1, 4, figsize=(16, 4))  # 1 row, 4 columns\n",
    "\n",
    "steps = [0, 99, 199, 299]\n",
    "\n",
    "for i, step in enumerate(steps):\n",
    "    ax = axs[i]\n",
    "    \n",
    "    tit = f'Opinion Dist. at t = {step}'\n",
    "    opinion_dst_t = results.OpinionDistr[step]\n",
    "\n",
    "    ax.hist(opinion_dst_t, bins=20, color='skyblue', edgecolor='black')\n",
    "    ax.set_title(tit)\n",
    "    ax.set_xlabel(\"Opinion\")\n",
    "    ax.set_ylabel(\"Frequency\")\n",
    "    ax.grid(True)\n",
    "\n",
    "plt.tight_layout()\n",
    "plt.show()"
   ]
  },
  {
   "cell_type": "markdown",
   "id": "9b226404",
   "metadata": {
    "slideshow": {
     "slide_type": "slide"
    }
   },
   "source": [
    "Let's play with the input parameters."
   ]
  },
  {
   "cell_type": "code",
   "execution_count": 22,
   "id": "82c1f27a",
   "metadata": {},
   "outputs": [],
   "source": [
    "# citizens being more generous\n",
    "new_params = {\n",
    "    \"seed\": 100, \n",
    "    \"num_agents\": 200, \n",
    "    \"epsilon_max\": 0.50, # this was 0.3 before\n",
    "    \"epsilon_min\": 0.05, # this was 0 before\n",
    "    \"alpha\": 2,\n",
    "    \"beta\": 4,\n",
    "    \"mu\": 0, \n",
    "    \"num_runs\": 300\n",
    "}"
   ]
  },
  {
   "cell_type": "code",
   "execution_count": 25,
   "id": "bd1aa107",
   "metadata": {},
   "outputs": [
    {
     "data": {
      "text/html": [
       "<div>\n",
       "<style scoped>\n",
       "    .dataframe tbody tr th:only-of-type {\n",
       "        vertical-align: middle;\n",
       "    }\n",
       "\n",
       "    .dataframe tbody tr th {\n",
       "        vertical-align: top;\n",
       "    }\n",
       "\n",
       "    .dataframe thead th {\n",
       "        text-align: right;\n",
       "    }\n",
       "</style>\n",
       "<table border=\"1\" class=\"dataframe\">\n",
       "  <thead>\n",
       "    <tr style=\"text-align: right;\">\n",
       "      <th></th>\n",
       "      <th>MeanOpinions</th>\n",
       "      <th>MedianOpinions</th>\n",
       "      <th>OpinionDistr</th>\n",
       "      <th>mu</th>\n",
       "    </tr>\n",
       "  </thead>\n",
       "  <tbody>\n",
       "    <tr>\n",
       "      <th>0</th>\n",
       "      <td>0.513159</td>\n",
       "      <td>0.488574</td>\n",
       "      <td>[0.8425763075250162, 0.5853716932112947, 0.935...</td>\n",
       "      <td>0</td>\n",
       "    </tr>\n",
       "    <tr>\n",
       "      <th>1</th>\n",
       "      <td>0.513678</td>\n",
       "      <td>0.450944</td>\n",
       "      <td>[0.7718984808305382, 0.5664388926220773, 0.867...</td>\n",
       "      <td>0</td>\n",
       "    </tr>\n",
       "    <tr>\n",
       "      <th>2</th>\n",
       "      <td>0.514766</td>\n",
       "      <td>0.449543</td>\n",
       "      <td>[0.7255829908232395, 0.5262696987228384, 0.810...</td>\n",
       "      <td>0</td>\n",
       "    </tr>\n",
       "    <tr>\n",
       "      <th>3</th>\n",
       "      <td>0.518220</td>\n",
       "      <td>0.483977</td>\n",
       "      <td>[0.6818755221439414, 0.48787231077265675, 0.74...</td>\n",
       "      <td>0</td>\n",
       "    </tr>\n",
       "    <tr>\n",
       "      <th>4</th>\n",
       "      <td>0.527793</td>\n",
       "      <td>0.515293</td>\n",
       "      <td>[0.5796914066030391, 0.5179099369805035, 0.694...</td>\n",
       "      <td>0</td>\n",
       "    </tr>\n",
       "    <tr>\n",
       "      <th>...</th>\n",
       "      <td>...</td>\n",
       "      <td>...</td>\n",
       "      <td>...</td>\n",
       "      <td>...</td>\n",
       "    </tr>\n",
       "    <tr>\n",
       "      <th>295</th>\n",
       "      <td>0.573846</td>\n",
       "      <td>0.571928</td>\n",
       "      <td>[0.5718941164742173, 0.5719192177076862, 0.571...</td>\n",
       "      <td>0</td>\n",
       "    </tr>\n",
       "    <tr>\n",
       "      <th>296</th>\n",
       "      <td>0.573959</td>\n",
       "      <td>0.572042</td>\n",
       "      <td>[0.5720754085677963, 0.5719988229330998, 0.572...</td>\n",
       "      <td>0</td>\n",
       "    </tr>\n",
       "    <tr>\n",
       "      <th>297</th>\n",
       "      <td>0.574073</td>\n",
       "      <td>0.572155</td>\n",
       "      <td>[0.5721477480915687, 0.5721539533923413, 0.572...</td>\n",
       "      <td>0</td>\n",
       "    </tr>\n",
       "    <tr>\n",
       "      <th>298</th>\n",
       "      <td>0.574185</td>\n",
       "      <td>0.572268</td>\n",
       "      <td>[0.5722353047798882, 0.5722309177840896, 0.572...</td>\n",
       "      <td>0</td>\n",
       "    </tr>\n",
       "    <tr>\n",
       "      <th>299</th>\n",
       "      <td>0.574295</td>\n",
       "      <td>0.572379</td>\n",
       "      <td>[0.5724169810367371, 0.5723733287903339, 0.572...</td>\n",
       "      <td>0</td>\n",
       "    </tr>\n",
       "  </tbody>\n",
       "</table>\n",
       "<p>300 rows × 4 columns</p>\n",
       "</div>"
      ],
      "text/plain": [
       "     MeanOpinions  MedianOpinions  \\\n",
       "0        0.513159        0.488574   \n",
       "1        0.513678        0.450944   \n",
       "2        0.514766        0.449543   \n",
       "3        0.518220        0.483977   \n",
       "4        0.527793        0.515293   \n",
       "..            ...             ...   \n",
       "295      0.573846        0.571928   \n",
       "296      0.573959        0.572042   \n",
       "297      0.574073        0.572155   \n",
       "298      0.574185        0.572268   \n",
       "299      0.574295        0.572379   \n",
       "\n",
       "                                          OpinionDistr  mu  \n",
       "0    [0.8425763075250162, 0.5853716932112947, 0.935...   0  \n",
       "1    [0.7718984808305382, 0.5664388926220773, 0.867...   0  \n",
       "2    [0.7255829908232395, 0.5262696987228384, 0.810...   0  \n",
       "3    [0.6818755221439414, 0.48787231077265675, 0.74...   0  \n",
       "4    [0.5796914066030391, 0.5179099369805035, 0.694...   0  \n",
       "..                                                 ...  ..  \n",
       "295  [0.5718941164742173, 0.5719192177076862, 0.571...   0  \n",
       "296  [0.5720754085677963, 0.5719988229330998, 0.572...   0  \n",
       "297  [0.5721477480915687, 0.5721539533923413, 0.572...   0  \n",
       "298  [0.5722353047798882, 0.5722309177840896, 0.572...   0  \n",
       "299  [0.5724169810367371, 0.5723733287903339, 0.572...   0  \n",
       "\n",
       "[300 rows x 4 columns]"
      ]
     },
     "execution_count": 25,
     "metadata": {},
     "output_type": "execute_result"
    }
   ],
   "source": [
    "new_model = BCModel(new_params) \n",
    "new_model.step()\n",
    "new_results = new_model.datacollector.get_model_vars_dataframe(); new_results"
   ]
  },
  {
   "cell_type": "code",
   "execution_count": 29,
   "id": "5df9e185",
   "metadata": {},
   "outputs": [
    {
     "data": {
      "text/plain": [
       "np.float64(0.19897070093265448)"
      ]
     },
     "execution_count": 29,
     "metadata": {},
     "output_type": "execute_result"
    }
   ],
   "source": [
    "# check each agent's epsilon value\n",
    "new_agent_epsilon=[agent.epsilon for agent in new_model.agents]; np.mean(new_agent_epsilon)"
   ]
  },
  {
   "cell_type": "code",
   "execution_count": 26,
   "id": "61472f47",
   "metadata": {
    "slideshow": {
     "slide_type": "subslide"
    }
   },
   "outputs": [
    {
     "data": {
      "image/png": "[encoded data removed]",
      "text/plain": [
       "<Figure size 1600x400 with 4 Axes>"
      ]
     },
     "metadata": {},
     "output_type": "display_data"
    }
   ],
   "source": [
    "fig, axs = plt.subplots(1, 4, figsize=(16, 4))  # 1 row, 4 columns\n",
    "\n",
    "steps = [0, 99, 199, 299]\n",
    "\n",
    "for i, step in enumerate(steps):\n",
    "    ax = axs[i]\n",
    "    \n",
    "    tit = f'Opinion Dist. at t = {step}'\n",
    "    opinion_dst_t = new_results.OpinionDistr[step]\n",
    "\n",
    "    ax.hist(opinion_dst_t, bins=20, color='skyblue', edgecolor='black')\n",
    "    ax.set_title(tit)\n",
    "    ax.set_xlabel(\"Opinion\")\n",
    "    ax.set_ylabel(\"Frequency\")\n",
    "    ax.grid(True)\n",
    "\n",
    "plt.tight_layout()\n",
    "plt.show()"
   ]
  },
  {
   "cell_type": "markdown",
   "id": "9af3c5bf",
   "metadata": {
    "slideshow": {
     "slide_type": "slide"
    }
   },
   "source": [
    "Let's make model with stronger cognitive bias"
   ]
  },
  {
   "cell_type": "code",
   "execution_count": 21,
   "id": "47ee0f19",
   "metadata": {},
   "outputs": [],
   "source": [
    "new_params = {\n",
    "    \"seed\": 100, \n",
    "    \"num_agents\": 200, \n",
    "    \"epsilon_max\": 0.05, \n",
    "    \"epsilon_min\": 0.0,\n",
    "    \"alpha\": 2,\n",
    "    \"beta\": 4,\n",
    "    \"mu\": 0, \n",
    "    \"num_runs\": 300\n",
    "}"
   ]
  },
  {
   "cell_type": "code",
   "execution_count": 22,
   "id": "80c45eb2",
   "metadata": {},
   "outputs": [
    {
     "data": {
      "text/html": [
       "<div>\n",
       "<style scoped>\n",
       "    .dataframe tbody tr th:only-of-type {\n",
       "        vertical-align: middle;\n",
       "    }\n",
       "\n",
       "    .dataframe tbody tr th {\n",
       "        vertical-align: top;\n",
       "    }\n",
       "\n",
       "    .dataframe thead th {\n",
       "        text-align: right;\n",
       "    }\n",
       "</style>\n",
       "<table border=\"1\" class=\"dataframe\">\n",
       "  <thead>\n",
       "    <tr style=\"text-align: right;\">\n",
       "      <th></th>\n",
       "      <th>MeanOpinions</th>\n",
       "      <th>MedianOpinions</th>\n",
       "      <th>OpinionDistr</th>\n",
       "      <th>mu</th>\n",
       "    </tr>\n",
       "  </thead>\n",
       "  <tbody>\n",
       "    <tr>\n",
       "      <th>0</th>\n",
       "      <td>0.511876</td>\n",
       "      <td>0.502207</td>\n",
       "      <td>[0.8260322092793961, 0.6038953149968298, 0.982...</td>\n",
       "      <td>0</td>\n",
       "    </tr>\n",
       "    <tr>\n",
       "      <th>1</th>\n",
       "      <td>0.511871</td>\n",
       "      <td>0.503719</td>\n",
       "      <td>[0.8171333183336853, 0.6036596947896169, 0.983...</td>\n",
       "      <td>0</td>\n",
       "    </tr>\n",
       "    <tr>\n",
       "      <th>2</th>\n",
       "      <td>0.511760</td>\n",
       "      <td>0.504384</td>\n",
       "      <td>[0.8062461859830222, 0.6042833204132896, 0.988...</td>\n",
       "      <td>0</td>\n",
       "    </tr>\n",
       "    <tr>\n",
       "      <th>3</th>\n",
       "      <td>0.511622</td>\n",
       "      <td>0.504092</td>\n",
       "      <td>[0.8036324918288393, 0.6043160581814642, 0.988...</td>\n",
       "      <td>0</td>\n",
       "    </tr>\n",
       "    <tr>\n",
       "      <th>4</th>\n",
       "      <td>0.511463</td>\n",
       "      <td>0.503893</td>\n",
       "      <td>[0.8038418185960441, 0.6067703978236868, 0.988...</td>\n",
       "      <td>0</td>\n",
       "    </tr>\n",
       "    <tr>\n",
       "      <th>...</th>\n",
       "      <td>...</td>\n",
       "      <td>...</td>\n",
       "      <td>...</td>\n",
       "      <td>...</td>\n",
       "    </tr>\n",
       "    <tr>\n",
       "      <th>295</th>\n",
       "      <td>0.511690</td>\n",
       "      <td>0.501907</td>\n",
       "      <td>[0.8044376623351447, 0.5804525870349158, 0.991...</td>\n",
       "      <td>0</td>\n",
       "    </tr>\n",
       "    <tr>\n",
       "      <th>296</th>\n",
       "      <td>0.511690</td>\n",
       "      <td>0.501907</td>\n",
       "      <td>[0.8044376623351447, 0.5804525870349158, 0.991...</td>\n",
       "      <td>0</td>\n",
       "    </tr>\n",
       "    <tr>\n",
       "      <th>297</th>\n",
       "      <td>0.511690</td>\n",
       "      <td>0.501907</td>\n",
       "      <td>[0.8044376623351447, 0.5804525870349158, 0.991...</td>\n",
       "      <td>0</td>\n",
       "    </tr>\n",
       "    <tr>\n",
       "      <th>298</th>\n",
       "      <td>0.511690</td>\n",
       "      <td>0.501907</td>\n",
       "      <td>[0.8044376623351447, 0.5804525870349158, 0.991...</td>\n",
       "      <td>0</td>\n",
       "    </tr>\n",
       "    <tr>\n",
       "      <th>299</th>\n",
       "      <td>0.511690</td>\n",
       "      <td>0.501907</td>\n",
       "      <td>[0.8044376623351447, 0.5804525870349158, 0.991...</td>\n",
       "      <td>0</td>\n",
       "    </tr>\n",
       "  </tbody>\n",
       "</table>\n",
       "<p>300 rows × 4 columns</p>\n",
       "</div>"
      ],
      "text/plain": [
       "     MeanOpinions  MedianOpinions  \\\n",
       "0        0.511876        0.502207   \n",
       "1        0.511871        0.503719   \n",
       "2        0.511760        0.504384   \n",
       "3        0.511622        0.504092   \n",
       "4        0.511463        0.503893   \n",
       "..            ...             ...   \n",
       "295      0.511690        0.501907   \n",
       "296      0.511690        0.501907   \n",
       "297      0.511690        0.501907   \n",
       "298      0.511690        0.501907   \n",
       "299      0.511690        0.501907   \n",
       "\n",
       "                                          OpinionDistr  mu  \n",
       "0    [0.8260322092793961, 0.6038953149968298, 0.982...   0  \n",
       "1    [0.8171333183336853, 0.6036596947896169, 0.983...   0  \n",
       "2    [0.8062461859830222, 0.6042833204132896, 0.988...   0  \n",
       "3    [0.8036324918288393, 0.6043160581814642, 0.988...   0  \n",
       "4    [0.8038418185960441, 0.6067703978236868, 0.988...   0  \n",
       "..                                                 ...  ..  \n",
       "295  [0.8044376623351447, 0.5804525870349158, 0.991...   0  \n",
       "296  [0.8044376623351447, 0.5804525870349158, 0.991...   0  \n",
       "297  [0.8044376623351447, 0.5804525870349158, 0.991...   0  \n",
       "298  [0.8044376623351447, 0.5804525870349158, 0.991...   0  \n",
       "299  [0.8044376623351447, 0.5804525870349158, 0.991...   0  \n",
       "\n",
       "[300 rows x 4 columns]"
      ]
     },
     "execution_count": 22,
     "metadata": {},
     "output_type": "execute_result"
    }
   ],
   "source": [
    "new_model = BCModel(new_params) \n",
    "new_model.step()\n",
    "new_results = new_model.datacollector.get_model_vars_dataframe(); new_results"
   ]
  },
  {
   "cell_type": "code",
   "execution_count": 23,
   "id": "69132510",
   "metadata": {},
   "outputs": [
    {
     "data": {
      "text/plain": [
       "np.float64(0.016552300103628275)"
      ]
     },
     "execution_count": 23,
     "metadata": {},
     "output_type": "execute_result"
    }
   ],
   "source": [
    "# check each agent's epsilon value\n",
    "new_agent_epsilon=[agent.epsilon for agent in new_model.agents]; np.mean(new_agent_epsilon)"
   ]
  },
  {
   "cell_type": "code",
   "execution_count": 24,
   "id": "04fba199",
   "metadata": {
    "slideshow": {
     "slide_type": "subslide"
    }
   },
   "outputs": [
    {
     "data": {
      "image/png": "[encoded data removed]",
      "text/plain": [
       "<Figure size 1600x400 with 4 Axes>"
      ]
     },
     "metadata": {},
     "output_type": "display_data"
    }
   ],
   "source": [
    "fig, axs = plt.subplots(1, 4, figsize=(16, 4))  # 1 row, 4 columns\n",
    "\n",
    "steps = [0, 99, 199, 299]\n",
    "\n",
    "for i, step in enumerate(steps):\n",
    "    ax = axs[i]\n",
    "    \n",
    "    tit = f'Opinion Dist. at t = {step}'\n",
    "    opinion_dst_t = new_results.OpinionDistr[step]\n",
    "\n",
    "    ax.hist(opinion_dst_t, bins=20, color='skyblue', edgecolor='black')\n",
    "    ax.set_title(tit)\n",
    "    ax.set_xlabel(\"Opinion\")\n",
    "    ax.set_ylabel(\"Frequency\")\n",
    "    ax.grid(True)\n",
    "\n",
    "plt.tight_layout()\n",
    "plt.show()"
   ]
  },
  {
   "cell_type": "markdown",
   "id": "300d02fc",
   "metadata": {
    "slideshow": {
     "slide_type": "slide"
    }
   },
   "source": [
    "# Where to Go From Here\n",
    "\n",
    "- Explore other models: segregation, diffusion, collective action  \n",
    "  → `mesa` includes many examples you can try! See: [Mesa Examples](https://mesa.readthedocs.io/latest/examples.html)\n",
    "\n",
    "- Use `BatchRunner` to iterate simulations across parameter values  \n",
    "  → This helps you explore the model outcomes **systematically**.\n",
    "\n",
    "- Connect ABMs to empirical data  \n",
    "  → You’ll be working on this with Francesco in next week's session!\n",
    "\n",
    "👉 ABMs aren’t just simulations — they’re experimental laboratories for social science theory."
   ]
  },
  {
   "cell_type": "markdown",
   "id": "1313ec0a",
   "metadata": {},
   "source": [
    "\n",
    "## 💬 Any Questions?\n",
    "_Feel free to reach out anytime:_ 📧 [minsu.jang@unimib.it](mailto:minsu.jang@unimib.it)"
   ]
  }
 ],
 "metadata": {
  "celltoolbar": "Slideshow",
  "kernelspec": {
   "display_name": "Python 3 (ipykernel)",
   "language": "python",
   "name": "python3"
  },
  "language_info": {
   "codemirror_mode": {
    "name": "ipython",
    "version": 3
   },
   "file_extension": ".py",
   "mimetype": "text/x-python",
   "name": "python",
   "nbconvert_exporter": "python",
   "pygments_lexer": "ipython3",
   "version": "3.11.12"
  }
 },
 "nbformat": 4,
 "nbformat_minor": 5
}
